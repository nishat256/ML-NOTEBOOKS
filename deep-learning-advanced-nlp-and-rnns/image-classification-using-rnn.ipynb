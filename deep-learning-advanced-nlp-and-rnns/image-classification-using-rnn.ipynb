{
 "cells": [
  {
   "cell_type": "code",
   "execution_count": 8,
   "metadata": {},
   "outputs": [],
   "source": [
    "import numpy as np\n",
    "from keras.datasets.mnist import load_data\n",
    "from keras.models import Model\n",
    "from keras.layers import LSTM, Bidirectional, Dense, GlobalMaxPooling1D, Input, Concatenate, Lambda\n",
    "import keras.backend as K\n",
    "import matplotlib.pyplot as plt"
   ]
  },
  {
   "cell_type": "code",
   "execution_count": 2,
   "metadata": {},
   "outputs": [
    {
     "name": "stdout",
     "output_type": "stream",
     "text": [
      "Downloading data from https://s3.amazonaws.com/img-datasets/mnist.npz\n",
      "11493376/11490434 [==============================] - 57s 5us/step\n"
     ]
    }
   ],
   "source": [
    "# load data\n",
    "(train_digits,train_labels),(test_digits,test_labels) = load_data() "
   ]
  },
  {
   "cell_type": "code",
   "execution_count": 3,
   "metadata": {},
   "outputs": [
    {
     "name": "stdout",
     "output_type": "stream",
     "text": [
      "shape of train_digits : (60000, 28, 28)\n",
      "shape of train_labels : (60000,)\n"
     ]
    }
   ],
   "source": [
    "print(\"shape of train_digits : {}\".format(train_digits.shape))\n",
    "print(\"shape of train_labels : {}\".format(train_labels.shape))"
   ]
  },
  {
   "cell_type": "code",
   "execution_count": 10,
   "metadata": {},
   "outputs": [
    {
     "name": "stdout",
     "output_type": "stream",
     "text": [
      "Model: \"model_2\"\n",
      "__________________________________________________________________________________________________\n",
      "Layer (type)                    Output Shape         Param #     Connected to                     \n",
      "==================================================================================================\n",
      "input_2 (InputLayer)            (None, 28, 28)       0                                            \n",
      "__________________________________________________________________________________________________\n",
      "lambda_2 (Lambda)               (None, 28, 28)       0           input_2[0][0]                    \n",
      "__________________________________________________________________________________________________\n",
      "bidirectional_3 (Bidirectional) (None, 28, 30)       5280        input_2[0][0]                    \n",
      "                                                                 lambda_2[0][0]                   \n",
      "__________________________________________________________________________________________________\n",
      "global_max_pooling1d_3 (GlobalM (None, 30)           0           bidirectional_3[0][0]            \n",
      "__________________________________________________________________________________________________\n",
      "global_max_pooling1d_4 (GlobalM (None, 30)           0           bidirectional_3[1][0]            \n",
      "__________________________________________________________________________________________________\n",
      "concatenate_2 (Concatenate)     (None, 60)           0           global_max_pooling1d_3[0][0]     \n",
      "                                                                 global_max_pooling1d_4[0][0]     \n",
      "__________________________________________________________________________________________________\n",
      "dense_2 (Dense)                 (None, 10)           610         concatenate_2[0][0]              \n",
      "==================================================================================================\n",
      "Total params: 5,890\n",
      "Trainable params: 5,890\n",
      "Non-trainable params: 0\n",
      "__________________________________________________________________________________________________\n",
      "None\n"
     ]
    }
   ],
   "source": [
    "# building model\n",
    "input_ = Input(shape=(28,28))\n",
    "rnn1 = Bidirectional(LSTM(15, return_sequences=True))\n",
    "x1 = rnn1(input_)\n",
    "x1 = GlobalMaxPooling1D()(x1)\n",
    "\n",
    "permutor = Lambda(lambda t:K.permute_dimensions(t,pattern=(0,2,1)))\n",
    "transposed_input = permutor(input_)\n",
    "\n",
    "rnn2 = Bidirectional(LSTM(15, return_sequences=True))\n",
    "x2 = rnn1(transposed_input)\n",
    "x2 = GlobalMaxPooling1D()(x2)\n",
    "concatenator = Concatenate(axis=1)\n",
    "x = concatenator([x1,x2])\n",
    "output = Dense(10,activation='softmax')(x)\n",
    "\n",
    "model = Model(inputs = input_,outputs = output)\n",
    "model.compile(loss='sparse_categorical_crossentropy',\n",
    "              optimizer='adam',\n",
    "              metrics=['accuracy']\n",
    "             )\n",
    "print(model.summary())"
   ]
  },
  {
   "cell_type": "code",
   "execution_count": 11,
   "metadata": {},
   "outputs": [
    {
     "name": "stdout",
     "output_type": "stream",
     "text": [
      "Train on 60000 samples, validate on 10000 samples\n",
      "Epoch 1/10\n",
      "60000/60000 [==============================] - 89s 1ms/step - loss: 0.9489 - accuracy: 0.7381 - val_loss: 0.4659 - val_accuracy: 0.8747\n",
      "Epoch 2/10\n",
      "60000/60000 [==============================] - 87s 1ms/step - loss: 0.3796 - accuracy: 0.8916 - val_loss: 0.3091 - val_accuracy: 0.9094\n",
      "Epoch 3/10\n",
      "60000/60000 [==============================] - 87s 1ms/step - loss: 0.2808 - accuracy: 0.9166 - val_loss: 0.2520 - val_accuracy: 0.9252\n",
      "Epoch 4/10\n",
      "60000/60000 [==============================] - 88s 1ms/step - loss: 0.2355 - accuracy: 0.9297 - val_loss: 0.2274 - val_accuracy: 0.9307\n",
      "Epoch 5/10\n",
      "60000/60000 [==============================] - 87s 1ms/step - loss: 0.2136 - accuracy: 0.9355 - val_loss: 0.1979 - val_accuracy: 0.9408\n",
      "Epoch 6/10\n",
      "60000/60000 [==============================] - 90s 2ms/step - loss: 0.1998 - accuracy: 0.9393 - val_loss: 0.1936 - val_accuracy: 0.9419\n",
      "Epoch 7/10\n",
      "60000/60000 [==============================] - 90s 2ms/step - loss: 0.1854 - accuracy: 0.9449 - val_loss: 0.1862 - val_accuracy: 0.9445\n",
      "Epoch 8/10\n",
      "60000/60000 [==============================] - 90s 1ms/step - loss: 0.1737 - accuracy: 0.9470 - val_loss: 0.1771 - val_accuracy: 0.9454\n",
      "Epoch 9/10\n",
      "60000/60000 [==============================] - 92s 2ms/step - loss: 0.1670 - accuracy: 0.9489 - val_loss: 0.1720 - val_accuracy: 0.9484\n",
      "Epoch 10/10\n",
      "60000/60000 [==============================] - 87s 1ms/step - loss: 0.1578 - accuracy: 0.9511 - val_loss: 0.1614 - val_accuracy: 0.9511\n"
     ]
    }
   ],
   "source": [
    "r = model.fit(train_digits,train_labels,\n",
    "              epochs=10,\n",
    "              batch_size=32,\n",
    "              validation_data=(test_digits,test_labels))"
   ]
  },
  {
   "cell_type": "code",
   "execution_count": 12,
   "metadata": {},
   "outputs": [
    {
     "data": {
      "image/png": "[encoded data removed]",
      "text/plain": [
       "<Figure size 432x288 with 1 Axes>"
      ]
     },
     "metadata": {
      "needs_background": "light"
     },
     "output_type": "display_data"
    },
    {
     "data": {
      "image/png": "[encoded data removed]",
      "text/plain": [
       "<Figure size 432x288 with 1 Axes>"
      ]
     },
     "metadata": {
      "needs_background": "light"
     },
     "output_type": "display_data"
    }
   ],
   "source": [
    "#plot loss data\n",
    "plt.plot(r.history['loss'] , label='loss')\n",
    "plt.plot(r.history['val_loss'] , label='val_loss')\n",
    "plt.legend()\n",
    "plt.show()\n",
    "\n",
    "#plot accuracy data\n",
    "plt.plot(r.history['accuracy'] , label='accuracy')\n",
    "plt.plot(r.history['val_accuracy'] , label='val_accuracy')\n",
    "plt.legend()\n",
    "plt.show()\n"
   ]
  },
  {
   "cell_type": "code",
   "execution_count": null,
   "metadata": {},
   "outputs": [],
   "source": []
  }
 ],
 "metadata": {
  "kernelspec": {
   "display_name": "Python 3",
   "language": "python",
   "name": "python3"
  },
  "language_info": {
   "codemirror_mode": {
    "name": "ipython",
    "version": 3
   },
   "file_extension": ".py",
   "mimetype": "text/x-python",
   "name": "python",
   "nbconvert_exporter": "python",
   "pygments_lexer": "ipython3",
   "version": "3.5.4"
  }
 },
 "nbformat": 4,
 "nbformat_minor": 4
}
