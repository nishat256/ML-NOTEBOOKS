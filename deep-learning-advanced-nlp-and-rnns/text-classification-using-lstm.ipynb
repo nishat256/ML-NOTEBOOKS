{
 "cells": [
  {
   "cell_type": "code",
   "execution_count": 10,
   "metadata": {},
   "outputs": [],
   "source": [
    "import numpy as np\n",
    "import pandas as pd\n",
    "import matplotlib.pyplot as plt\n",
    "from keras.models import Model\n",
    "from keras.layers import Embedding,Input,Dense,LSTM,Bidirectional,GlobalMaxPooling1D\n",
    "from keras.preprocessing.text import Tokenizer\n",
    "from keras.preprocessing.sequence import pad_sequences\n",
    "from keras.callbacks import ModelCheckpoint\n",
    "from keras.optimizers import Adam"
   ]
  },
  {
   "cell_type": "code",
   "execution_count": 3,
   "metadata": {},
   "outputs": [],
   "source": [
    "embedding_size = 100\n",
    "max_vocab_size = 20000\n",
    "path = 'data/glove.6B.100d.txt'\n",
    "max_sequence_length = 100\n",
    "batch_size = 128\n",
    "epochs = 5\n",
    "validation_split = .2\n",
    "filepath_model =\"model_weights.hdf5\""
   ]
  },
  {
   "cell_type": "code",
   "execution_count": 4,
   "metadata": {},
   "outputs": [],
   "source": [
    "def process_embedding_file(path):\n",
    "    with open(path,encoding='utf-8') as f:\n",
    "        word2vec = dict()\n",
    "        for line in f:\n",
    "            out = line.split()\n",
    "            word = out[0]\n",
    "            word2vec[word] = np.asarray(out[1:], dtype='float32')\n",
    "        return word2vec\n",
    "            \n",
    "word2vec = process_embedding_file(path)\n",
    "            "
   ]
  },
  {
   "cell_type": "code",
   "execution_count": 5,
   "metadata": {},
   "outputs": [
    {
     "name": "stdout",
     "output_type": "stream",
     "text": [
      "length of word embeddings : 400000\n"
     ]
    }
   ],
   "source": [
    "print('length of word embeddings : {}'.format(len(word2vec)))"
   ]
  },
  {
   "cell_type": "code",
   "execution_count": 6,
   "metadata": {},
   "outputs": [],
   "source": [
    "df_train = pd.read_csv('data/train.csv')\n",
    "labels = ['toxic','severe_toxic','obscene','threat','insult','identity_hate']\n",
    "#deleting records with null values\n",
    "df_train.dropna(inplace=True)\n",
    "sentences = df_train['comment_text'].values\n",
    "target = df_train[labels].values"
   ]
  },
  {
   "cell_type": "code",
   "execution_count": 7,
   "metadata": {},
   "outputs": [
    {
     "name": "stdout",
     "output_type": "stream",
     "text": [
      "Number of unique words : 210337\n"
     ]
    }
   ],
   "source": [
    "t = Tokenizer(num_words = max_vocab_size)\n",
    "t.fit_on_texts(sentences)\n",
    "sequences = t.texts_to_sequences(sentences)\n",
    "word2idx = t.word_index\n",
    "print('Number of unique words : {}'.format(len(word2idx)))\n",
    "padded_sequences = pad_sequences(sequences,maxlen=max_sequence_length)"
   ]
  },
  {
   "cell_type": "code",
   "execution_count": 8,
   "metadata": {},
   "outputs": [],
   "source": [
    "# create weight matrix for words in training sentences\n",
    "max_vocab_size = min(max_vocab_size,len(word2idx)+1)\n",
    "embedding_matrix = np.zeros((max_vocab_size,embedding_size))\n",
    "for word,index in word2idx.items():\n",
    "    if index < max_vocab_size:\n",
    "        embedding_vector = word2vec.get(word)\n",
    "        if embedding_vector is not None:\n",
    "            embedding_matrix[index] = embedding_vector\n"
   ]
  },
  {
   "cell_type": "code",
   "execution_count": 9,
   "metadata": {},
   "outputs": [],
   "source": [
    "embedding_layer =Embedding(max_vocab_size,\n",
    "                           embedding_size,\n",
    "                           weights=[embedding_matrix],\n",
    "                           input_length=max_sequence_length,\n",
    "                           trainable=False)"
   ]
  },
  {
   "cell_type": "code",
   "execution_count": 15,
   "metadata": {},
   "outputs": [],
   "source": [
    "#building model\n",
    "input_model = Input(shape=(max_sequence_length,))\n",
    "x = embedding_layer(input_model)\n",
    "#rnn = LSTM(15, return_sequences = True)\n",
    "rnn = Bidirectional(LSTM(15, return_sequences = True))\n",
    "x = rnn(x)\n",
    "x = GlobalMaxPooling1D()(x)\n",
    "output = Dense(len(labels),activation='sigmoid')(x)\n",
    "model =Model(input_model,output)\n",
    "model.compile(loss = 'binary_crossentropy',optimizer=Adam(lr=.01),metrics=['accuracy'])"
   ]
  },
  {
   "cell_type": "code",
   "execution_count": null,
   "metadata": {},
   "outputs": [
    {
     "name": "stdout",
     "output_type": "stream",
     "text": [
      "Train on 127656 samples, validate on 31915 samples\n",
      "Epoch 1/5\n",
      "127656/127656 [==============================] - 158s 1ms/step - loss: 0.0629 - accuracy: 0.9788 - val_loss: 0.0541 - val_accuracy: 0.9808\n",
      "\n",
      "Epoch 00001: val_accuracy improved from -inf to 0.98083, saving model to model_weights.hdf5\n",
      "Epoch 2/5\n",
      "127656/127656 [==============================] - 165s 1ms/step - loss: 0.0511 - accuracy: 0.9816 - val_loss: 0.0523 - val_accuracy: 0.9814\n",
      "\n",
      "Epoch 00002: val_accuracy improved from 0.98083 to 0.98141, saving model to model_weights.hdf5\n",
      "Epoch 3/5\n",
      "127656/127656 [==============================] - 172s 1ms/step - loss: 0.0488 - accuracy: 0.9823 - val_loss: 0.0504 - val_accuracy: 0.9816\n",
      "\n",
      "Epoch 00003: val_accuracy improved from 0.98141 to 0.98162, saving model to model_weights.hdf5\n",
      "Epoch 4/5\n",
      "127656/127656 [==============================] - 171s 1ms/step - loss: 0.0474 - accuracy: 0.9827 - val_loss: 0.0503 - val_accuracy: 0.9816\n",
      "\n",
      "Epoch 00004: val_accuracy improved from 0.98162 to 0.98164, saving model to model_weights.hdf5\n",
      "Epoch 5/5\n",
      "126848/127656 [============================>.] - ETA: 1s - loss: 0.0461 - accuracy: 0.9829"
     ]
    }
   ],
   "source": [
    "#training model\n",
    "checkpoint = ModelCheckpoint(filepath_model, monitor='val_accuracy', verbose=1, save_best_only=True, mode='max')\n",
    "callbacks_list = [checkpoint]\n",
    "history = model.fit(padded_sequences,\n",
    "                    target,\n",
    "                    batch_size = batch_size,\n",
    "                    epochs = epochs,\n",
    "                    validation_split = validation_split,\n",
    "                    callbacks=callbacks_list)"
   ]
  },
  {
   "cell_type": "code",
   "execution_count": 13,
   "metadata": {},
   "outputs": [
    {
     "data": {
      "image/png": "[encoded data removed]",
      "text/plain": [
       "<Figure size 432x288 with 1 Axes>"
      ]
     },
     "metadata": {
      "needs_background": "light"
     },
     "output_type": "display_data"
    },
    {
     "data": {
      "image/png": "[encoded data removed]",
      "text/plain": [
       "<Figure size 432x288 with 1 Axes>"
      ]
     },
     "metadata": {
      "needs_background": "light"
     },
     "output_type": "display_data"
    }
   ],
   "source": [
    "# plot loss data\n",
    "plt.plot(history.history['loss'], label='loss')\n",
    "plt.plot(history.history['val_loss'], label='val_loss')\n",
    "plt.legend()\n",
    "plt.show()\n",
    "\n",
    "# plot accuracies  data\n",
    "plt.plot(history.history['accuracy'], label='acc')\n",
    "plt.plot(history.history['val_accuracy'], label='val_acc')\n",
    "plt.legend()\n",
    "plt.show()"
   ]
  },
  {
   "cell_type": "code",
   "execution_count": null,
   "metadata": {},
   "outputs": [],
   "source": []
  }
 ],
 "metadata": {
  "kernelspec": {
   "display_name": "Python 3",
   "language": "python",
   "name": "python3"
  },
  "language_info": {
   "codemirror_mode": {
    "name": "ipython",
    "version": 3
   },
   "file_extension": ".py",
   "mimetype": "text/x-python",
   "name": "python",
   "nbconvert_exporter": "python",
   "pygments_lexer": "ipython3",
   "version": "3.5.4"
  }
 },
 "nbformat": 4,
 "nbformat_minor": 4
}
