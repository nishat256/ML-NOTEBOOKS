{
 "cells": [
  {
   "cell_type": "code",
   "execution_count": 14,
   "metadata": {},
   "outputs": [],
   "source": [
    "import numpy as np\n",
    "import pandas as pd\n",
    "import matplotlib.pyplot as plt\n",
    "from keras.models import Model\n",
    "from keras.layers import Embedding,Input,Dense,Conv1D,MaxPooling1D,GlobalMaxPooling1D\n",
    "from keras.preprocessing.text import Tokenizer\n",
    "from keras.preprocessing.sequence import pad_sequences\n",
    "from keras.callbacks import ModelCheckpoint"
   ]
  },
  {
   "cell_type": "code",
   "execution_count": 13,
   "metadata": {},
   "outputs": [],
   "source": [
    "embedding_size = 100\n",
    "max_vocab_size = 20000\n",
    "path = 'data/glove.6B.100d.txt'\n",
    "max_sequence_length = 100\n",
    "batch_size = 128\n",
    "epochs = 10\n",
    "validation_split = .2\n",
    "filepath_model =\"model_weights.hdf5\""
   ]
  },
  {
   "cell_type": "code",
   "execution_count": 3,
   "metadata": {},
   "outputs": [],
   "source": [
    "def process_embedding_file(path):\n",
    "    with open(path,encoding='utf-8') as f:\n",
    "        word2vec = dict()\n",
    "        for line in f:\n",
    "            out = line.split()\n",
    "            word = out[0]\n",
    "            word2vec[word] = np.asarray(out[1:], dtype='float32')\n",
    "        return word2vec\n",
    "            \n",
    "word2vec = process_embedding_file(path)\n",
    "            "
   ]
  },
  {
   "cell_type": "code",
   "execution_count": 4,
   "metadata": {},
   "outputs": [
    {
     "name": "stdout",
     "output_type": "stream",
     "text": [
      "length of word embeddings : 400000\n"
     ]
    }
   ],
   "source": [
    "print('length of word embeddings : {}'.format(len(word2vec)))"
   ]
  },
  {
   "cell_type": "code",
   "execution_count": 6,
   "metadata": {},
   "outputs": [],
   "source": [
    "df_train = pd.read_csv('data/train.csv')\n",
    "labels = ['toxic','severe_toxic','obscene','threat','insult','identity_hate']\n",
    "#deleting records with null values\n",
    "df_train.dropna(inplace=True)\n",
    "sentences = df_train['comment_text'].values\n",
    "target = df_train[labels].values"
   ]
  },
  {
   "cell_type": "code",
   "execution_count": 7,
   "metadata": {},
   "outputs": [
    {
     "name": "stdout",
     "output_type": "stream",
     "text": [
      "Number of unique words : 210337\n"
     ]
    }
   ],
   "source": [
    "t = Tokenizer(num_words = max_vocab_size)\n",
    "t.fit_on_texts(sentences)\n",
    "sequences = t.texts_to_sequences(sentences)\n",
    "word2idx = t.word_index\n",
    "print('Number of unique words : {}'.format(len(word2idx)))\n",
    "padded_sequences = pad_sequences(sequences,maxlen=max_sequence_length)"
   ]
  },
  {
   "cell_type": "code",
   "execution_count": 8,
   "metadata": {},
   "outputs": [],
   "source": [
    "# create weight matrix for words in training sentences\n",
    "max_vocab_size = min(max_vocab_size,len(word2idx)+1)\n",
    "embedding_matrix = np.zeros((max_vocab_size,embedding_size))\n",
    "for word,index in word2idx.items():\n",
    "    if index < max_vocab_size:\n",
    "        embedding_vector = word2vec.get(word)\n",
    "        if embedding_vector is not None:\n",
    "            embedding_matrix[index] = embedding_vector\n"
   ]
  },
  {
   "cell_type": "code",
   "execution_count": 9,
   "metadata": {},
   "outputs": [],
   "source": [
    "embedding_layer =Embedding(max_vocab_size,\n",
    "                           embedding_size,\n",
    "                           weights=[embedding_matrix],\n",
    "                           input_length=max_sequence_length,\n",
    "                           trainable=False)"
   ]
  },
  {
   "cell_type": "code",
   "execution_count": 10,
   "metadata": {},
   "outputs": [],
   "source": [
    "#building model\n",
    "input_model = Input(shape=(max_sequence_length,))\n",
    "x = embedding_layer(input_model)\n",
    "x = Conv1D(128,3,activation='relu')(x)\n",
    "x = MaxPooling1D(3)(x)\n",
    "x = Conv1D(128,3,activation='relu')(x)\n",
    "x = MaxPooling1D(3)(x)\n",
    "x = Conv1D(128,3,activation='relu')(x)\n",
    "x = GlobalMaxPooling1D()(x)\n",
    "x = Dense(128,activation='relu')(x)\n",
    "output = Dense(len(labels),activation='sigmoid')(x)\n",
    "\n",
    "model =Model(input_model,output)\n",
    "model.compile(loss = 'binary_crossentropy',optimizer='rmsprop',metrics=['accuracy'])"
   ]
  },
  {
   "cell_type": "code",
   "execution_count": 11,
   "metadata": {},
   "outputs": [
    {
     "name": "stdout",
     "output_type": "stream",
     "text": [
      "Train on 127656 samples, validate on 31915 samples\n",
      "Epoch 1/10\n",
      "127656/127656 [==============================] - 144s 1ms/step - loss: 0.0833 - accuracy: 0.9733 - val_loss: 0.0712 - val_accuracy: 0.9762\n",
      "\n",
      "Epoch 00001: val_accuracy improved from -inf to 0.97621, saving model to model_weights.hdf5\n",
      "Epoch 2/10\n",
      "127656/127656 [==============================] - 140s 1ms/step - loss: 0.0673 - accuracy: 0.9774 - val_loss: 0.0676 - val_accuracy: 0.9775\n",
      "\n",
      "Epoch 00002: val_accuracy improved from 0.97621 to 0.97751, saving model to model_weights.hdf5\n",
      "Epoch 3/10\n",
      "127656/127656 [==============================] - 155s 1ms/step - loss: 0.0627 - accuracy: 0.9785 - val_loss: 0.0692 - val_accuracy: 0.9775\n",
      "\n",
      "Epoch 00003: val_accuracy did not improve from 0.97751\n",
      "Epoch 4/10\n",
      "127656/127656 [==============================] - 140s 1ms/step - loss: 0.0593 - accuracy: 0.9793 - val_loss: 0.0985 - val_accuracy: 0.9659\n",
      "\n",
      "Epoch 00004: val_accuracy did not improve from 0.97751\n",
      "Epoch 5/10\n",
      "127656/127656 [==============================] - 143s 1ms/step - loss: 0.0568 - accuracy: 0.9800 - val_loss: 0.0739 - val_accuracy: 0.9776\n",
      "\n",
      "Epoch 00005: val_accuracy improved from 0.97751 to 0.97763, saving model to model_weights.hdf5\n",
      "Epoch 6/10\n",
      "127656/127656 [==============================] - 155s 1ms/step - loss: 0.0551 - accuracy: 0.9805 - val_loss: 0.0745 - val_accuracy: 0.9776\n",
      "\n",
      "Epoch 00006: val_accuracy did not improve from 0.97763\n",
      "Epoch 7/10\n",
      "127656/127656 [==============================] - 160s 1ms/step - loss: 0.0533 - accuracy: 0.9810 - val_loss: 0.0727 - val_accuracy: 0.9774\n",
      "\n",
      "Epoch 00007: val_accuracy did not improve from 0.97763\n",
      "Epoch 8/10\n",
      "127656/127656 [==============================] - 150s 1ms/step - loss: 0.0521 - accuracy: 0.9812 - val_loss: 0.0709 - val_accuracy: 0.9768\n",
      "\n",
      "Epoch 00008: val_accuracy did not improve from 0.97763\n",
      "Epoch 9/10\n",
      "127656/127656 [==============================] - 154s 1ms/step - loss: 0.0509 - accuracy: 0.9817 - val_loss: 0.0790 - val_accuracy: 0.9777\n",
      "\n",
      "Epoch 00009: val_accuracy improved from 0.97763 to 0.97772, saving model to model_weights.hdf5\n",
      "Epoch 10/10\n",
      "127656/127656 [==============================] - 139s 1ms/step - loss: 0.0497 - accuracy: 0.9821 - val_loss: 0.0925 - val_accuracy: 0.9747\n",
      "\n",
      "Epoch 00010: val_accuracy did not improve from 0.97772\n"
     ]
    }
   ],
   "source": [
    "#training model\n",
    "checkpoint = ModelCheckpoint(filepath_model, monitor='val_accuracy', verbose=1, save_best_only=True, mode='max')\n",
    "callbacks_list = [checkpoint]\n",
    "history = model.fit(padded_sequences,\n",
    "                    target,\n",
    "                    batch_size = batch_size,\n",
    "                    epochs = epochs,\n",
    "                    validation_split = validation_split,\n",
    "                    callbacks=callbacks_list)"
   ]
  },
  {
   "cell_type": "code",
   "execution_count": 16,
   "metadata": {},
   "outputs": [
    {
     "data": {
      "image/png": "[encoded data removed]",
      "text/plain": [
       "<Figure size 432x288 with 1 Axes>"
      ]
     },
     "metadata": {
      "needs_background": "light"
     },
     "output_type": "display_data"
    },
    {
     "data": {
      "image/png": "[encoded data removed]",
      "text/plain": [
       "<Figure size 432x288 with 1 Axes>"
      ]
     },
     "metadata": {
      "needs_background": "light"
     },
     "output_type": "display_data"
    }
   ],
   "source": [
    "# plot loss data\n",
    "plt.plot(history.history['loss'], label='loss')\n",
    "plt.plot(history.history['val_loss'], label='val_loss')\n",
    "plt.legend()\n",
    "plt.show()\n",
    "\n",
    "# plot accuracies  data\n",
    "plt.plot(history.history['accuracy'], label='acc')\n",
    "plt.plot(history.history['val_accuracy'], label='val_acc')\n",
    "plt.legend()\n",
    "plt.show()"
   ]
  },
  {
   "cell_type": "code",
   "execution_count": 17,
   "metadata": {},
   "outputs": [
    {
     "name": "stdout",
     "output_type": "stream",
     "text": [
      "[[9.3485779e-01 5.5959838e-04 1.2996584e-01 1.2103043e-05 4.4591290e-01\n",
      "  8.6479320e-04]]\n"
     ]
    }
   ],
   "source": [
    "#prediction for a single sentence\n",
    "input_sentence = \"you are  looking very ugly fat girl\"\n",
    "sequence = t.texts_to_sequences([input_sentence])\n",
    "padded_sequence = pad_sequences(sequence,maxlen=max_sequence_length)\n",
    "prediction = model.predict([padded_sequence])\n",
    "print(prediction)"
   ]
  },
  {
   "cell_type": "code",
   "execution_count": 18,
   "metadata": {},
   "outputs": [],
   "source": [
    "labels = ['toxic','severe_toxic','obscene','threat','insult','identity_hate']"
   ]
  },
  {
   "cell_type": "code",
   "execution_count": null,
   "metadata": {},
   "outputs": [],
   "source": []
  }
 ],
 "metadata": {
  "kernelspec": {
   "display_name": "Python 3",
   "language": "python",
   "name": "python3"
  },
  "language_info": {
   "codemirror_mode": {
    "name": "ipython",
    "version": 3
   },
   "file_extension": ".py",
   "mimetype": "text/x-python",
   "name": "python",
   "nbconvert_exporter": "python",
   "pygments_lexer": "ipython3",
   "version": "3.5.4"
  }
 },
 "nbformat": 4,
 "nbformat_minor": 2
}
