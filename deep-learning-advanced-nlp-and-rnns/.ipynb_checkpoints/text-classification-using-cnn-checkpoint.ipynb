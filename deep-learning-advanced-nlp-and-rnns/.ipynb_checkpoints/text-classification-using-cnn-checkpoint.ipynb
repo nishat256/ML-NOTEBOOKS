{
 "cells": [
  {
   "cell_type": "code",
   "execution_count": 13,
   "metadata": {},
   "outputs": [],
   "source": [
    "import numpy as np\n",
    "import pandas as pd\n",
    "from keras.models import Model\n",
    "from keras.layers import Embedding\n",
    "from keras.preprocessing.text import Tokenizer\n",
    "from keras.preprocessing.sequence import pad_sequences"
   ]
  },
  {
   "cell_type": "code",
   "execution_count": 2,
   "metadata": {
    "collapsed": true
   },
   "outputs": [],
   "source": [
    "embedding_size = 100\n",
    "max_vocab_size = 20000\n",
    "path = 'data/glove.6B.100d.txt'\n",
    "max_sequence_length = 100"
   ]
  },
  {
   "cell_type": "code",
   "execution_count": 3,
   "metadata": {
    "collapsed": true
   },
   "outputs": [],
   "source": [
    "def process_embedding_file(path):\n",
    "    with open(path,encoding='utf-8') as f:\n",
    "        word2vec = dict()\n",
    "        for line in f:\n",
    "            out = line.split()\n",
    "            word = out[0]\n",
    "            word2vec[word] = np.asarray(out[1:], dtype='float32')\n",
    "        return word2vec\n",
    "            \n",
    "word2vec = process_embedding_file(path)\n",
    "            "
   ]
  },
  {
   "cell_type": "code",
   "execution_count": 4,
   "metadata": {},
   "outputs": [
    {
     "name": "stdout",
     "output_type": "stream",
     "text": [
      "length of word embeddings : 400000\n"
     ]
    }
   ],
   "source": [
    "print('length of word embeddings : {}'.format(len(word2vec)))"
   ]
  },
  {
   "cell_type": "code",
   "execution_count": 5,
   "metadata": {
    "collapsed": true
   },
   "outputs": [],
   "source": [
    "df_train = pd.read_csv('data/train.csv')\n",
    "labels = ['toxic','severe_toxic','obscene','threat','insult','identity_hate']\n",
    "#deleting records with null values\n",
    "df_train.dropna(inplace=True)\n",
    "sentences = df_train['comment_text'].values\n",
    "target = df_train[labels].values"
   ]
  },
  {
   "cell_type": "code",
   "execution_count": 12,
   "metadata": {},
   "outputs": [
    {
     "name": "stdout",
     "output_type": "stream",
     "text": [
      "Number of unique words : 210337\n"
     ]
    }
   ],
   "source": [
    "t = Tokenizer(num_words = max_vocab_size)\n",
    "t.fit_on_texts(sentences)\n",
    "sequences = t.texts_to_sequences(sentences)\n",
    "word2idx = t.word_index\n",
    "print('Number of unique words : {}'.format(len(word2idx)))\n",
    "padded_sequences = pad_sequences(sequences,maxlen=max_sequence_length)"
   ]
  },
  {
   "cell_type": "code",
   "execution_count": 16,
   "metadata": {},
   "outputs": [],
   "source": [
    "# create weight matrix for words in training sentences\n",
    "embedding_matrix = np.zeros((max_vocab_size,embedding_size))\n",
    "for word,index in word2idx.items():\n",
    "    if index < max_vocab_size:\n",
    "        embedding_vector = word2vec.get(word)\n",
    "        if embedding_vector is not None:\n",
    "            embedding_matrix[index] = embedding_vector\n"
   ]
  },
  {
   "cell_type": "code",
   "execution_count": 18,
   "metadata": {},
   "outputs": [],
   "source": [
    "embedding_layer =Embedding(max_vocab_size,\n",
    "                           embedding_size,\n",
    "                           weights=[embedding_matrix],\n",
    "                           input_length=max_sequence_length,\n",
    "                           trainable=False)"
   ]
  },
  {
   "cell_type": "code",
   "execution_count": null,
   "metadata": {
    "collapsed": true
   },
   "outputs": [],
   "source": []
  }
 ],
 "metadata": {
  "kernelspec": {
   "display_name": "Python 3",
   "language": "python",
   "name": "python3"
  },
  "language_info": {
   "codemirror_mode": {
    "name": "ipython",
    "version": 3
   },
   "file_extension": ".py",
   "mimetype": "text/x-python",
   "name": "python",
   "nbconvert_exporter": "python",
   "pygments_lexer": "ipython3",
   "version": "3.5.2"
  }
 },
 "nbformat": 4,
 "nbformat_minor": 2
}
