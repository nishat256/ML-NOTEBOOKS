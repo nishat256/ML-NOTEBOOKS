{
 "cells": [
  {
   "cell_type": "code",
   "execution_count": 40,
   "metadata": {},
   "outputs": [],
   "source": [
    "import numpy as np\n",
    "import keras.backend as K\n",
    "import matplotlib.pyplot as plt\n",
    "from keras.preprocessing.text import Tokenizer\n",
    "from keras.models import Model\n",
    "from keras.preprocessing.sequence import pad_sequences \n",
    "from keras.layers import Dense, Input, LSTM, Bidirectional, Embedding, RepeatVector, Concatenate, Dot, Lambda"
   ]
  },
  {
   "cell_type": "code",
   "execution_count": 41,
   "metadata": {},
   "outputs": [],
   "source": [
    "# config\n",
    "BATCH_SIZE = 32\n",
    "EPOCH = 100\n",
    "LATENT_DIM = 256 # latent dimensionality of encoding space\n",
    "NUM_SAMPLES = 10000 # number of sample to train on\n",
    "MAX_NUM_WORDS = 20000\n",
    "MAX_SEQUENCE_LENGTH = 100\n",
    "EMBEDDING_SIZE = 100\n",
    "LATENT_DIM_DECODER = 256\n",
    "path = 'data/glove.6B.100d.txt'"
   ]
  },
  {
   "cell_type": "code",
   "execution_count": 42,
   "metadata": {},
   "outputs": [
    {
     "name": "stdout",
     "output_type": "stream",
     "text": [
      "number of samples : 2869\n"
     ]
    }
   ],
   "source": [
    "# processing dataset \n",
    "input_texts = []\n",
    "target_texts_output = []\n",
    "target_texts_input = []\n",
    "\n",
    "t=0\n",
    "for line in open('data/eng_to_hindi.txt',encoding='utf-8'):\n",
    "    t+=1\n",
    "    if t > NUM_SAMPLES:\n",
    "        break\n",
    "    if '\\t' not in line:\n",
    "        continue\n",
    "    input_text, translation = line.split('\\t')\n",
    "    target_text_output = translation.strip() + ' <eos>'\n",
    "    target_text_input = '<sos> '+ translation.strip()\n",
    "    \n",
    "    input_texts.append(input_text)\n",
    "    target_texts_output.append(target_text_output)\n",
    "    target_texts_input.append(target_text_input)\n",
    "print(\"number of samples : {}\".format(len(input_texts)))"
   ]
  },
  {
   "cell_type": "code",
   "execution_count": 43,
   "metadata": {},
   "outputs": [
    {
     "name": "stdout",
     "output_type": "stream",
     "text": [
      "Unique tokkens in inputs : 2402\n",
      "Unique tokkens in outputs : 3161\n"
     ]
    }
   ],
   "source": [
    "# tokenizing sentences \n",
    "#input\n",
    "tokenizer_inputs = Tokenizer(num_words=MAX_NUM_WORDS)\n",
    "tokenizer_inputs.fit_on_texts(input_texts)\n",
    "input_sequences = tokenizer_inputs.texts_to_sequences(input_texts)\n",
    "word2idx_inputs = tokenizer_inputs.word_index\n",
    "print('Unique tokkens in inputs : {}'.format(len(word2idx_inputs)))\n",
    "max_len_input = max([len(s) for s in input_sequences])\n",
    "\n",
    "#output\n",
    "tokenizer_outputs = Tokenizer(num_words=MAX_NUM_WORDS,filters='')\n",
    "tokenizer_outputs.fit_on_texts(target_texts_output+target_texts_input)\n",
    "target_sequences_input = tokenizer_outputs.texts_to_sequences(target_texts_input)\n",
    "target_sequences_output = tokenizer_outputs.texts_to_sequences(target_texts_output)\n",
    "word2idx_outputs = tokenizer_outputs.word_index\n",
    "print('Unique tokkens in outputs : {}'.format(len(word2idx_outputs)))\n",
    "max_len_target = max([len(s) for s in target_sequences_input])\n",
    "num_words_output = len(word2idx_outputs) + 1"
   ]
  },
  {
   "cell_type": "code",
   "execution_count": 44,
   "metadata": {},
   "outputs": [
    {
     "name": "stdout",
     "output_type": "stream",
     "text": [
      "encoder shape : (2869, 22)\n",
      "encoder_data[0] s: [ 0  0  0  0  0  0  0  0  0  0  0  0  0  0  0  0  0  0  0  0  0 90]\n",
      "decoder input shape : (2869, 26)\n",
      "decoder_input_data[0] s: [   2 1500    0    0    0    0    0    0    0    0    0    0    0    0\n",
      "    0    0    0    0    0    0    0    0    0    0    0    0]\n",
      "decoder output shape : (2869, 26)\n",
      "decoder_output_data[0] s: [1500    1    0    0    0    0    0    0    0    0    0    0    0    0\n",
      "    0    0    0    0    0    0    0    0    0    0    0    0]\n"
     ]
    }
   ],
   "source": [
    "# pad sequences\n",
    "encoder_inputs = pad_sequences(input_sequences,maxlen=max_len_input)\n",
    "print(\"encoder shape :\",encoder_inputs.shape)\n",
    "print(\"encoder_data[0] s:\",encoder_inputs[0])\n",
    "\n",
    "decoder_inputs = pad_sequences(target_sequences_input,maxlen=max_len_target, padding='post')\n",
    "print(\"decoder input shape :\",decoder_inputs.shape)\n",
    "print(\"decoder_input_data[0] s:\",decoder_inputs[0])\n",
    "\n",
    "decoder_targets = pad_sequences(target_sequences_output,maxlen=max_len_target, padding='post')\n",
    "print(\"decoder output shape :\",decoder_targets.shape)\n",
    "print(\"decoder_output_data[0] s:\",decoder_targets[0])"
   ]
  },
  {
   "cell_type": "code",
   "execution_count": null,
   "metadata": {},
   "outputs": [],
   "source": [
    "def process_embedding_file(path):\n",
    "    with open(path,encoding='utf-8') as f:\n",
    "        word2vec = dict()\n",
    "        for line in f:\n",
    "            out = line.split()\n",
    "            word = out[0]\n",
    "            word2vec[word] = np.asarray(out[1:], dtype='float32')\n",
    "        return word2vec\n",
    "            \n",
    "word2vec = process_embedding_file(path)\n",
    "print('length of word embeddings : {}'.format(len(word2vec)))"
   ]
  },
  {
   "cell_type": "code",
   "execution_count": null,
   "metadata": {},
   "outputs": [],
   "source": [
    "# create weight matrix for words in training sentences\n",
    "num_words = min(MAX_NUM_WORDS,len(word2idx_inputs)+1)\n",
    "embedding_matrix = np.zeros((num_words,EMBEDDING_SIZE))\n",
    "for word,index in word2idx_inputs.items():\n",
    "    if index < num_words:\n",
    "        embedding_vector = word2vec.get(word)\n",
    "        if embedding_vector is not None:\n",
    "            embedding_matrix[index] = embedding_vector"
   ]
  },
  {
   "cell_type": "code",
   "execution_count": null,
   "metadata": {},
   "outputs": [],
   "source": [
    "embedding_layer =Embedding(num_words,\n",
    "                           EMBEDDING_SIZE,\n",
    "                           weights=[embedding_matrix],\n",
    "                           input_length=max_len_input)"
   ]
  },
  {
   "cell_type": "code",
   "execution_count": null,
   "metadata": {},
   "outputs": [],
   "source": [
    "decoder_targets_one_hot = np.zeros((len(input_sequences),\n",
    "                                    max_len_target,\n",
    "                                    num_words_output),\n",
    "                                   dtype='float32')\n",
    "\n",
    "for i,d in enumerate(decoder_targets):\n",
    "    for j,word in enumerate(d):\n",
    "        decoder_targets_one_hot[i,j,word] = 1"
   ]
  },
  {
   "cell_type": "code",
   "execution_count": null,
   "metadata": {},
   "outputs": [],
   "source": [
    "# build model\n",
    "encoder_inputs_placeholder = Input(shape=(max_len_input,))\n",
    "x = embedding_layer(encoder_inputs_placeholder)\n",
    "encoder = Bidirectional(LSTM(LATENT_DIM,return_sequences=True,dropout=.5))\n",
    "encoder_outputs = encoder(x)"
   ]
  },
  {
   "cell_type": "code",
   "execution_count": 26,
   "metadata": {},
   "outputs": [],
   "source": [
    "decoder_inputs_placeholder = Input(shape=(max_len_target,))\n",
    "decoder_embedding = Embedding(num_words_output,EMBEDDING_SIZE)\n",
    "decoder_inputs_x = decoder_embedding(decoder_inputs_placeholder)"
   ]
  },
  {
   "cell_type": "code",
   "execution_count": 27,
   "metadata": {},
   "outputs": [],
   "source": [
    "# attention layer\n",
    "def softmax_over_time(x):\n",
    "    assert(K.ndim(x)>2)\n",
    "    e = K.exp(x - K.max(x, axis=1, keepdims=True))\n",
    "    s = K.sum(e, axis=1, keepdims=True)\n",
    "    return e/s\n",
    "\n",
    "attn_repeat_layer = RepeatVector(max_len_input)\n",
    "attn_concatenate_layer = Concatenate(axis=-1)\n",
    "attn_dense1 = Dense(10,activation='tanh')\n",
    "attn_dense2 = Dense(1,activation=softmax_over_time)\n",
    "attn_dot = Dot(axes=1)\n",
    "\n",
    "def one_step_attention(h,st_1):\n",
    "    \n",
    "    st_1 = attn_repeat_layer(st_1) # shape = (Tx,LATENT_DIM)\n",
    "    x = attn_concatenate_layer([h, st_1])  # shape= (Tx ,2*LATENT_DIM+LATENT_DIM_DECODER)\n",
    "    x = attn_dense1(x)\n",
    "    alphas = attn_dense2(x)\n",
    "    context = attn_dot([alphas,h])\n",
    "    return context\n",
    "    "
   ]
  },
  {
   "cell_type": "code",
   "execution_count": 28,
   "metadata": {},
   "outputs": [],
   "source": [
    "decoder_lstm = LSTM(LATENT_DIM_DECODER,return_state=True)\n",
    "decoder_dense = Dense(num_words_output, activation='softmax')\n",
    "initial_s = Input(shape=(LATENT_DIM_DECODER,),name='s0')\n",
    "initial_c = Input(shape=(LATENT_DIM_DECODER,),name='c0')\n",
    "context_last_word_concat_layer = Concatenate(axis=2)\n",
    "\n",
    "s = initial_s\n",
    "c = initial_c\n",
    "\n",
    "outputs = []\n",
    "for t in range(max_len_target):\n",
    "    context = one_step_attention(encoder_outputs,s) \n",
    "    # we need a different layer for each time step\n",
    "    selector = Lambda(lambda x:x[:,t:t+1])\n",
    "    xt = selector(decoder_inputs_x)\n",
    "    \n",
    "    decoder_lstm_input = context_last_word_concat_layer([context,xt])\n",
    "    o, s, c = decoder_lstm(decoder_lstm_input, initial_state=[s,c])\n",
    "    decoder_outputs = decoder_dense(o)\n",
    "    outputs.append(decoder_outputs)\n",
    "    \n",
    "# outputs is now a list of length Ty\n",
    "# each element is of shape (batch_size,output_vocab_size)\n",
    "# therefore we stack all the outouts in 1 tensor\n",
    "# it would be of shape (T,N,D)\n",
    "# we would like it to be of shape (N,T,D)\n",
    "\n",
    "def stack_and_transpose(x):\n",
    "    x = K.stack(x)\n",
    "    x = K.permute_dimensions(x, pattern=(1,0,2))\n",
    "    return x\n",
    "\n",
    "stacker = Lambda(stack_and_transpose)\n",
    "outputs = stacker(outputs)\n",
    "\n",
    "model = Model(inputs=[encoder_inputs_placeholder,\n",
    "                      decoder_inputs_placeholder,\n",
    "                      initial_s,\n",
    "                      initial_c],\n",
    "             outputs=outputs)\n",
    "model.compile(optimizer='rmsprop',loss='categorical_crossentropy',metrics=['accuracy'])"
   ]
  },
  {
   "cell_type": "code",
   "execution_count": 29,
   "metadata": {},
   "outputs": [
    {
     "name": "stderr",
     "output_type": "stream",
     "text": [
      "c:\\users\\new.user\\desktop\\ml_env\\lib\\site-packages\\tensorflow_core\\python\\framework\\indexed_slices.py:433: UserWarning: Converting sparse IndexedSlices to a dense Tensor of unknown shape. This may consume a large amount of memory.\n",
      "  \"Converting sparse IndexedSlices to a dense Tensor of unknown shape. \"\n"
     ]
    },
    {
     "name": "stdout",
     "output_type": "stream",
     "text": [
      "Train on 2295 samples, validate on 574 samples\n",
      "Epoch 1/10\n",
      "2295/2295 [==============================] - 139s 61ms/step - loss: 2.4606 - accuracy: 0.7100 - val_loss: 2.9177 - val_accuracy: 0.5833\n",
      "Epoch 2/10\n",
      "2295/2295 [==============================] - 80s 35ms/step - loss: 1.7436 - accuracy: 0.7366 - val_loss: 3.1332 - val_accuracy: 0.5832\n",
      "Epoch 3/10\n",
      "2295/2295 [==============================] - 77s 34ms/step - loss: 1.6150 - accuracy: 0.7468 - val_loss: 2.9395 - val_accuracy: 0.5840\n",
      "Epoch 4/10\n",
      "2295/2295 [==============================] - 78s 34ms/step - loss: 1.5081 - accuracy: 0.7630 - val_loss: 2.7439 - val_accuracy: 0.6220\n",
      "Epoch 5/10\n",
      "2295/2295 [==============================] - 81s 35ms/step - loss: 1.4405 - accuracy: 0.7743 - val_loss: 2.7088 - val_accuracy: 0.6285\n",
      "Epoch 6/10\n",
      "2295/2295 [==============================] - 78s 34ms/step - loss: 1.3843 - accuracy: 0.7792 - val_loss: 2.6634 - val_accuracy: 0.6370\n",
      "Epoch 7/10\n",
      "2295/2295 [==============================] - 77s 33ms/step - loss: 1.3319 - accuracy: 0.7851 - val_loss: 2.6973 - val_accuracy: 0.6368\n",
      "Epoch 8/10\n",
      "2295/2295 [==============================] - 78s 34ms/step - loss: 1.2846 - accuracy: 0.7890 - val_loss: 2.6496 - val_accuracy: 0.6399\n",
      "Epoch 9/10\n",
      "2295/2295 [==============================] - 77s 34ms/step - loss: 1.2411 - accuracy: 0.7918 - val_loss: 2.6190 - val_accuracy: 0.6434\n",
      "Epoch 10/10\n",
      "2295/2295 [==============================] - 78s 34ms/step - loss: 1.1984 - accuracy: 0.7959 - val_loss: 2.5848 - val_accuracy: 0.6435\n"
     ]
    }
   ],
   "source": [
    "# train the model\n",
    "z = np.zeros((len(encoder_inputs),LATENT_DIM_DECODER))\n",
    "history = model.fit(\n",
    "               [encoder_inputs,decoder_inputs,z,z], decoder_targets_one_hot,\n",
    "                batch_size = BATCH_SIZE,\n",
    "                epochs = EPOCH,validation_split=.2)"
   ]
  },
  {
   "cell_type": "code",
   "execution_count": 32,
   "metadata": {},
   "outputs": [
    {
     "data": {
      "image/png": "[encoded data removed]",
      "text/plain": [
       "<Figure size 432x288 with 1 Axes>"
      ]
     },
     "metadata": {
      "needs_background": "light"
     },
     "output_type": "display_data"
    },
    {
     "data": {
      "image/png": "[encoded data removed]",
      "text/plain": [
       "<Figure size 432x288 with 1 Axes>"
      ]
     },
     "metadata": {
      "needs_background": "light"
     },
     "output_type": "display_data"
    }
   ],
   "source": [
    "# plot loss data\n",
    "plt.plot(history.history['loss'], label='loss')\n",
    "plt.plot(history.history['val_loss'], label='val_loss')\n",
    "plt.legend()\n",
    "plt.show()\n",
    "\n",
    "# plot accuracies  data\n",
    "plt.plot(history.history['accuracy'], label='acc')\n",
    "plt.plot(history.history['val_accuracy'], label='val_acc')\n",
    "plt.legend()\n",
    "plt.show()"
   ]
  },
  {
   "cell_type": "code",
   "execution_count": 33,
   "metadata": {},
   "outputs": [],
   "source": [
    "# make prediction\n",
    "\n",
    "encoder_model = Model(encoder_inputs_placeholder,encoder_outputs)\n",
    "encoder_outputs_as_input = Input(shape=(max_len_input,2*LATENT_DIM,))\n",
    "\n",
    "decoder_inputs_single = Input(shape=(1,))\n",
    "decoder_inputs_single_x = decoder_embedding(decoder_inputs_single)\n",
    "\n",
    "context = one_step_attention(encoder_outputs_as_input,initial_s)\n",
    "decoder_lstm_input = context_last_word_concat_layer([context,decoder_inputs_single_x])\n",
    "o, s, c = decoder_lstm(decoder_lstm_input, initial_state=[initial_s,initial_c])\n",
    "decoder_outputs = decoder_dense(o)\n",
    "\n",
    "decoder_model = Model(inputs = [decoder_inputs_single,encoder_outputs_as_input,initial_s,initial_c],\n",
    "                    outputs=[decoder_outputs,s,c])"
   ]
  },
  {
   "cell_type": "code",
   "execution_count": 34,
   "metadata": {},
   "outputs": [],
   "source": [
    "idx2words_inputs = {v:k for k,v in word2idx_inputs.items()}\n",
    "idx2words_outputs = {v:k for k,v in word2idx_outputs.items()}"
   ]
  },
  {
   "cell_type": "code",
   "execution_count": 35,
   "metadata": {},
   "outputs": [],
   "source": [
    "def decode_sequence(input_seq):\n",
    "    enc_out = encoder_model.predict(input_seq)\n",
    "    # generate empty target sequence of length 1.\n",
    "    target_seq = np.zeros((1,1))\n",
    "    target_seq[0,0] = word2idx_outputs['<sos>']\n",
    "    eos = word2idx_outputs['<eos>']\n",
    "    s = np.zeros((1,LATENT_DIM_DECODER))\n",
    "    c = np.zeros((1,LATENT_DIM_DECODER))\n",
    "    \n",
    "    # translation\n",
    "    output_sentence = []\n",
    "    for _ in range(max_len_target):\n",
    "        o,s,c = decoder_model.predict([target_seq,enc_out,s,c])\n",
    "        \n",
    "        idx = np.argmax(o.flatten())\n",
    "        if eos == idx:\n",
    "            break\n",
    "        word = ''\n",
    "        if idx > 0:\n",
    "            word = idx2words_outputs[idx]\n",
    "            output_sentence.append(word)\n",
    "        target_seq[0,0] = idx\n",
    "    return ' '.join(output_sentence)"
   ]
  },
  {
   "cell_type": "code",
   "execution_count": 39,
   "metadata": {},
   "outputs": [
    {
     "name": "stdout",
     "output_type": "stream",
     "text": [
      "तुम तुम नहीं क्या?\n"
     ]
    }
   ],
   "source": [
    "input_sen = \"how are you \"\n",
    "input_seq = tokenizer_inputs.texts_to_sequences([input_sen])\n",
    "input_seq =  pad_sequences(input_seq,maxlen=max_len_input)\n",
    "translation = decode_sequence(input_seq)\n",
    "print(translation)"
   ]
  },
  {
   "cell_type": "code",
   "execution_count": null,
   "metadata": {},
   "outputs": [],
   "source": []
  }
 ],
 "metadata": {
  "kernelspec": {
   "display_name": "Python 3",
   "language": "python",
   "name": "python3"
  }
 },
 "nbformat": 4,
 "nbformat_minor": 4
}
