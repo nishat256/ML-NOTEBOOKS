{
 "cells": [
  {
   "cell_type": "code",
   "execution_count": 27,
   "metadata": {},
   "outputs": [],
   "source": [
    "import numpy as np\n",
    "import pandas as pd\n",
    "import matplotlib.pyplot as plt\n",
    "import re\n",
    "from keras.preprocessing.text import Tokenizer\n",
    "from keras.preprocessing.sequence import pad_sequences\n",
    "from keras.layers import Embedding, Dense, Conv1D, GlobalMaxPooling1D, Concatenate,Input, Dropout\n",
    "from keras.models import Model"
   ]
  },
  {
   "cell_type": "code",
   "execution_count": 3,
   "metadata": {},
   "outputs": [],
   "source": [
    "FILE_PATH_TRAIN = 'data/train.csv'"
   ]
  },
  {
   "cell_type": "code",
   "execution_count": 7,
   "metadata": {},
   "outputs": [
    {
     "data": {
      "text/html": [
       "<div>\n",
       "<style scoped>\n",
       "    .dataframe tbody tr th:only-of-type {\n",
       "        vertical-align: middle;\n",
       "    }\n",
       "\n",
       "    .dataframe tbody tr th {\n",
       "        vertical-align: top;\n",
       "    }\n",
       "\n",
       "    .dataframe thead th {\n",
       "        text-align: right;\n",
       "    }\n",
       "</style>\n",
       "<table border=\"1\" class=\"dataframe\">\n",
       "  <thead>\n",
       "    <tr style=\"text-align: right;\">\n",
       "      <th></th>\n",
       "      <th>SentimentText</th>\n",
       "      <th>Sentiment</th>\n",
       "    </tr>\n",
       "  </thead>\n",
       "  <tbody>\n",
       "    <tr>\n",
       "      <th>0</th>\n",
       "      <td>is so sad for my APL frie...</td>\n",
       "      <td>0</td>\n",
       "    </tr>\n",
       "    <tr>\n",
       "      <th>1</th>\n",
       "      <td>I missed the New Moon trail...</td>\n",
       "      <td>0</td>\n",
       "    </tr>\n",
       "    <tr>\n",
       "      <th>2</th>\n",
       "      <td>omg its already 7:30 :O</td>\n",
       "      <td>1</td>\n",
       "    </tr>\n",
       "    <tr>\n",
       "      <th>3</th>\n",
       "      <td>.. Omgaga. Im sooo  im gunna CRy. I'...</td>\n",
       "      <td>0</td>\n",
       "    </tr>\n",
       "    <tr>\n",
       "      <th>4</th>\n",
       "      <td>i think mi bf is cheating on me!!!   ...</td>\n",
       "      <td>0</td>\n",
       "    </tr>\n",
       "    <tr>\n",
       "      <th>...</th>\n",
       "      <td>...</td>\n",
       "      <td>...</td>\n",
       "    </tr>\n",
       "    <tr>\n",
       "      <th>99984</th>\n",
       "      <td>@Cupcake  seems like a repeating problem   hop...</td>\n",
       "      <td>0</td>\n",
       "    </tr>\n",
       "    <tr>\n",
       "      <th>99985</th>\n",
       "      <td>@cupcake__ arrrr we both replied to each other...</td>\n",
       "      <td>1</td>\n",
       "    </tr>\n",
       "    <tr>\n",
       "      <th>99986</th>\n",
       "      <td>@CuPcAkE_2120 ya i thought so</td>\n",
       "      <td>0</td>\n",
       "    </tr>\n",
       "    <tr>\n",
       "      <th>99987</th>\n",
       "      <td>@Cupcake_Dollie Yes. Yes. I'm glad you had mor...</td>\n",
       "      <td>1</td>\n",
       "    </tr>\n",
       "    <tr>\n",
       "      <th>99988</th>\n",
       "      <td>@cupcake_kayla haha yes you do</td>\n",
       "      <td>1</td>\n",
       "    </tr>\n",
       "  </tbody>\n",
       "</table>\n",
       "<p>99989 rows × 2 columns</p>\n",
       "</div>"
      ],
      "text/plain": [
       "                                           SentimentText  Sentiment\n",
       "0                           is so sad for my APL frie...          0\n",
       "1                         I missed the New Moon trail...          0\n",
       "2                                omg its already 7:30 :O          1\n",
       "3                .. Omgaga. Im sooo  im gunna CRy. I'...          0\n",
       "4               i think mi bf is cheating on me!!!   ...          0\n",
       "...                                                  ...        ...\n",
       "99984  @Cupcake  seems like a repeating problem   hop...          0\n",
       "99985  @cupcake__ arrrr we both replied to each other...          1\n",
       "99986                     @CuPcAkE_2120 ya i thought so           0\n",
       "99987  @Cupcake_Dollie Yes. Yes. I'm glad you had mor...          1\n",
       "99988                    @cupcake_kayla haha yes you do           1\n",
       "\n",
       "[99989 rows x 2 columns]"
      ]
     },
     "metadata": {},
     "output_type": "display_data"
    }
   ],
   "source": [
    "train_data = pd.read_csv(FILE_PATH_TRAIN,encoding='latin')\n",
    "train_data = train_data[['SentimentText','Sentiment']]\n",
    "display(train_data)"
   ]
  },
  {
   "cell_type": "code",
   "execution_count": 11,
   "metadata": {},
   "outputs": [
    {
     "name": "stdout",
     "output_type": "stream",
     "text": [
      "['seems like a repeating problem hope you re able to find something', 'arrrr we both replied to each other over different tweets at the same time i ll see you then Duno where the hell Kateyy is', 'ya i thought so', 'Yes Yes I m glad you had more fun with me', 'haha yes you do']\n"
     ]
    }
   ],
   "source": [
    "# data preprocessing\n",
    "tweets = train_data['SentimentText'].values\n",
    "labels = train_data['Sentiment'].values\n",
    "\n",
    "def clean_tweet(input_text):\n",
    "    # remove twitter handles (@user)\n",
    "    tweet = re.sub(r'@[\\w]*', ' ',input_text)\n",
    "    \n",
    "    # remove special characters, numbers, punctuations\n",
    "    tweet = re.sub(r'[^a-zA-Z#]', ' ',tweet)\n",
    "    \n",
    "    # remove two or more spaces by one space\n",
    "    tweet = re.sub(r' +', ' ',tweet)\n",
    "    \n",
    "    return tweet.strip()\n",
    "\n",
    "\n",
    "tweets = [clean_tweet(tweet) for tweet in tweets]\n",
    "\n",
    "print(tweets[-5:])"
   ]
  },
  {
   "cell_type": "code",
   "execution_count": 19,
   "metadata": {},
   "outputs": [
    {
     "name": "stdout",
     "output_type": "stream",
     "text": [
      "Number of unique words : 52265\n",
      "maximum sequence length : 121\n"
     ]
    }
   ],
   "source": [
    "t = Tokenizer()\n",
    "t.fit_on_texts(tweets)\n",
    "sequences = t.texts_to_sequences(tweets)\n",
    "word2idx = t.word_index\n",
    "print('Number of unique words : {}'.format(len(word2idx)))\n",
    "\n",
    "max_sequence_len = max([len(seq) for seq in sequences])\n",
    "print('maximum sequence length : {}'.format(max_sequence_len))\n",
    "\n",
    "data_inputs = pad_sequences(sequences,maxlen=max_sequence_len, padding='post')"
   ]
  },
  {
   "cell_type": "code",
   "execution_count": 31,
   "metadata": {},
   "outputs": [],
   "source": [
    "max_vocab_size = len(word2idx) + 1\n",
    "embedding_dim = 200\n",
    "num_filters = 100\n",
    "epochs = 5\n",
    "batch_size =32 "
   ]
  },
  {
   "cell_type": "code",
   "execution_count": 30,
   "metadata": {},
   "outputs": [
    {
     "name": "stdout",
     "output_type": "stream",
     "text": [
      "Model: \"model_1\"\n",
      "__________________________________________________________________________________________________\n",
      "Layer (type)                    Output Shape         Param #     Connected to                     \n",
      "==================================================================================================\n",
      "input_4 (InputLayer)            (None, 121)          0                                            \n",
      "__________________________________________________________________________________________________\n",
      "embedding_5 (Embedding)         (None, 121, 200)     10453200    input_4[0][0]                    \n",
      "__________________________________________________________________________________________________\n",
      "conv1d_10 (Conv1D)              (None, 120, 100)     40100       embedding_5[0][0]                \n",
      "__________________________________________________________________________________________________\n",
      "conv1d_11 (Conv1D)              (None, 119, 100)     60100       embedding_5[0][0]                \n",
      "__________________________________________________________________________________________________\n",
      "conv1d_12 (Conv1D)              (None, 118, 100)     80100       embedding_5[0][0]                \n",
      "__________________________________________________________________________________________________\n",
      "global_max_pooling1d_10 (Global (None, 100)          0           conv1d_10[0][0]                  \n",
      "__________________________________________________________________________________________________\n",
      "global_max_pooling1d_11 (Global (None, 100)          0           conv1d_11[0][0]                  \n",
      "                                                                 conv1d_12[0][0]                  \n",
      "__________________________________________________________________________________________________\n",
      "concatenate_3 (Concatenate)     (None, 300)          0           global_max_pooling1d_10[0][0]    \n",
      "                                                                 global_max_pooling1d_11[0][0]    \n",
      "                                                                 global_max_pooling1d_11[1][0]    \n",
      "__________________________________________________________________________________________________\n",
      "dense_6 (Dense)                 (None, 256)          77056       concatenate_3[0][0]              \n",
      "__________________________________________________________________________________________________\n",
      "dropout_3 (Dropout)             (None, 256)          0           dense_6[0][0]                    \n",
      "__________________________________________________________________________________________________\n",
      "dense_7 (Dense)                 (None, 1)            257         dropout_3[0][0]                  \n",
      "==================================================================================================\n",
      "Total params: 10,710,813\n",
      "Trainable params: 10,710,813\n",
      "Non-trainable params: 0\n",
      "__________________________________________________________________________________________________\n",
      "None\n"
     ]
    }
   ],
   "source": [
    "#build model\n",
    "embedding_layer = Embedding(max_vocab_size,embedding_dim)\n",
    "inputs_  = Input(shape=(max_sequence_len,))\n",
    "x = embedding_layer(inputs_)\n",
    "\n",
    "bigram = Conv1D(num_filters, kernel_size=2,padding='valid',activation='relu')\n",
    "pool_1 = GlobalMaxPooling1D()\n",
    "\n",
    "trigram = Conv1D(num_filters, kernel_size=3,padding='valid',activation='relu')\n",
    "pool_2 = GlobalMaxPooling1D()\n",
    "\n",
    "fourgram = Conv1D(num_filters, kernel_size=4,padding='valid',activation='relu')\n",
    "pool_3 = GlobalMaxPooling1D()\n",
    "\n",
    "dense_1 = Dense(256,activation='relu')\n",
    "dropout = Dropout(.3)\n",
    "\n",
    "concatenator = Concatenate(axis=-1)\n",
    "\n",
    "last_dense = Dense(1,activation='sigmoid')\n",
    "\n",
    "x_1 = bigram(x)\n",
    "x_1 = pool_1(x_1)\n",
    "\n",
    "x_2 = trigram(x)\n",
    "x_2 = pool_2(x_2)\n",
    "\n",
    "x_3 = fourgram(x)\n",
    "x_3 = pool_2(x_3)\n",
    "\n",
    "merged = concatenator([x_1, x_2, x_3])\n",
    "merged = dense_1(merged)\n",
    "merged = dropout(merged)\n",
    "outputs = last_dense(merged) \n",
    "\n",
    "model = Model(inputs=inputs_,outputs=outputs)\n",
    "model.compile(optimizer='adam',loss='binary_crossentropy',metrics=['accuracy'])\n",
    "print(model.summary())"
   ]
  },
  {
   "cell_type": "code",
   "execution_count": 32,
   "metadata": {},
   "outputs": [
    {
     "name": "stderr",
     "output_type": "stream",
     "text": [
      "c:\\users\\new.user\\desktop\\ml_env\\lib\\site-packages\\tensorflow_core\\python\\framework\\indexed_slices.py:433: UserWarning: Converting sparse IndexedSlices to a dense Tensor of unknown shape. This may consume a large amount of memory.\n",
      "  \"Converting sparse IndexedSlices to a dense Tensor of unknown shape. \"\n"
     ]
    },
    {
     "name": "stdout",
     "output_type": "stream",
     "text": [
      "Train on 79991 samples, validate on 19998 samples\n",
      "Epoch 1/5\n",
      "79991/79991 [==============================] - 1322s 17ms/step - loss: 0.4936 - accuracy: 0.7564 - val_loss: 0.4607 - val_accuracy: 0.7803\n",
      "Epoch 2/5\n",
      "79991/79991 [==============================] - 1156s 14ms/step - loss: 0.3516 - accuracy: 0.8453 - val_loss: 0.5007 - val_accuracy: 0.7717\n",
      "Epoch 3/5\n",
      "79991/79991 [==============================] - 1182s 15ms/step - loss: 0.1940 - accuracy: 0.9205 - val_loss: 0.6579 - val_accuracy: 0.7595\n",
      "Epoch 4/5\n",
      "79991/79991 [==============================] - 1149s 14ms/step - loss: 0.1040 - accuracy: 0.9580 - val_loss: 0.8316 - val_accuracy: 0.7528\n",
      "Epoch 5/5\n",
      "79991/79991 [==============================] - 1206s 15ms/step - loss: 0.0712 - accuracy: 0.9719 - val_loss: 0.9550 - val_accuracy: 0.7340\n"
     ]
    }
   ],
   "source": [
    "r = model.fit(data_inputs,\n",
    "              labels,\n",
    "              batch_size=batch_size,\n",
    "              epochs=epochs,\n",
    "              validation_split=.2)"
   ]
  },
  {
   "cell_type": "code",
   "execution_count": 34,
   "metadata": {},
   "outputs": [
    {
     "data": {
      "image/png": "[encoded data removed]",
      "text/plain": [
       "<Figure size 432x288 with 1 Axes>"
      ]
     },
     "metadata": {
      "needs_background": "light"
     },
     "output_type": "display_data"
    },
    {
     "data": {
      "text/plain": [
       "<matplotlib.legend.Legend at 0x368df01940>"
      ]
     },
     "execution_count": 34,
     "metadata": {},
     "output_type": "execute_result"
    },
    {
     "data": {
      "image/png": "[encoded data removed]",
      "text/plain": [
       "<Figure size 432x288 with 1 Axes>"
      ]
     },
     "metadata": {
      "needs_background": "light"
     },
     "output_type": "display_data"
    }
   ],
   "source": [
    "# plot loss data\n",
    "plt.plot(r.history['loss'], label='loss')\n",
    "plt.plot(r.history['val_loss'], label='val_loss')\n",
    "plt.legend()\n",
    "plt.show()\n",
    "\n",
    "# plot accuracies  data\n",
    "plt.plot(r.history['accuracy'], label='acc')\n",
    "plt.plot(r.history['val_accuracy'], label='val_acc')\n",
    "plt.legend()"
   ]
  },
  {
   "cell_type": "code",
   "execution_count": null,
   "metadata": {},
   "outputs": [],
   "source": []
  }
 ],
 "metadata": {
  "kernelspec": {
   "display_name": "Python 3",
   "language": "python",
   "name": "python3"
  },
  "language_info": {
   "codemirror_mode": {
    "name": "ipython",
    "version": 3
   },
   "file_extension": ".py",
   "mimetype": "text/x-python",
   "name": "python",
   "nbconvert_exporter": "python",
   "pygments_lexer": "ipython3",
   "version": "3.5.4"
  }
 },
 "nbformat": 4,
 "nbformat_minor": 4
}
